{
 "cells": [
  {
   "cell_type": "code",
   "execution_count": null,
   "metadata": {},
   "outputs": [],
   "source": [
    "import pandas as pd\n",
    "import numpy as np\n",
    "from collections import defaultdict\n",
    "import torch\n",
    "from torch import nn\n",
    "from torch.utils.data import Dataset, DataLoader\n",
    "\n",
    "def load_cora():\n",
    "    with open(\"/home/lxhq/workspace/my-graphsage/cora/cora.content\") as content:\n",
    "        content = pd.read_csv(content, sep='\\t', header=None)\n",
    "        labels_raw = content.iloc[:, -1]\n",
    "        labels_map = {i: j for j, i in enumerate(set(labels_raw))}\n",
    "        labels = np.array([labels_map[i] for i in labels_raw], dtype=np.int32)\n",
    "        nodes = np.array(content.iloc[:, 1:-1], dtype=np.int32)\n",
    "        idx = np.array(content.iloc[:, 0], dtype = np.int32)\n",
    "        idx_map = {i: j for j, i in enumerate(idx)}\n",
    "\n",
    "    with open(\"/home/lxhq/workspace/my-graphsage/cora/cora.cites\") as cites:\n",
    "        cites = pd.read_csv(cites, sep = '\\t', header = None)\n",
    "        edges_index = np.array(list(map(idx_map.get, cites.values.flatten())), dtype=np.int32)\n",
    "        edges_index = edges_index.reshape(cites.shape)\n",
    "        adj = defaultdict(set)\n",
    "        for edge in edges_index:\n",
    "            adj[edge[0]].add(edge[1])\n",
    "            adj[edge[1]].add(edge[0])\n",
    "    return nodes, adj, labels"
   ]
  },
  {
   "cell_type": "code",
   "execution_count": null,
   "metadata": {},
   "outputs": [],
   "source": [
    "\n",
    "class node_set(Dataset):\n",
    "    def __init__(self, nodes, labels, device):\n",
    "        self.nodes = torch.tensor(nodes, device=device, dtype=torch.float)\n",
    "        self.labels = torch.tensor(labels, device=device, dtype=torch.long)\n",
    "\n",
    "    def __getitem__(self, index):\n",
    "        return self.nodes[index], self.labels[index]\n",
    "\n",
    "    def __len__(self):\n",
    "        return len(self.nodes)"
   ]
  },
  {
   "cell_type": "code",
   "execution_count": 146,
   "metadata": {},
   "outputs": [],
   "source": [
    "embedding_feat = 128\n",
    "epochs = 100\n",
    "batch = 256\n",
    "layers = 2\n",
    "if torch.cuda.is_available():\n",
    "    device = torch.device(\"cuda\")\n",
    "else:\n",
    "    device = torch.device(\"cpu\")\n",
    "features, adj, labels = load_cora()\n",
    "features = torch.tensor(features, device=device, dtype=torch.float)\n",
    "nodes = np.array(range(len(features)))\n",
    "train_dataset = node_set(nodes[1500:], labels[1500:], device)\n",
    "test_dataset = node_set(nodes[:1000], labels[:1000], device)\n",
    "train_data_loader = DataLoader(train_dataset, batch_size=batch, shuffle=True, drop_last=False)\n",
    "test_data_loader = DataLoader(test_dataset, batch_size=batch, shuffle=False, drop_last=False)"
   ]
  },
  {
   "cell_type": "code",
   "execution_count": 217,
   "metadata": {},
   "outputs": [],
   "source": [
    "def get_layers_input(input, adj, layers):\n",
    "    node_layers = []\n",
    "    all_nodes = set()\n",
    "    for layer in range(layers):\n",
    "        if layer == 0:\n",
    "            node_layers.append(input)\n",
    "            all_nodes.union([i.item() for i in input])\n",
    "        else:\n",
    "            temp = []\n",
    "            for node in node_layers[layer - 1]:\n",
    "                neighbors = adj[node.item()]\n",
    "                temp.append(node.item())\n",
    "                for neighbor in neighbors:\n",
    "                    if neighbor not in all_nodes:\n",
    "                        temp.append(neighbor)\n",
    "                        all_nodes.add(neighbor)\n",
    "            node_layers.append(torch.tensor(temp))\n",
    "    return list(reversed(node_layers))\n",
    "    "
   ]
  },
  {
   "cell_type": "code",
   "execution_count": 220,
   "metadata": {},
   "outputs": [
    {
     "name": "stdout",
     "output_type": "stream",
     "text": [
      "881\n",
      "256\n",
      "835\n",
      "256\n",
      "931\n",
      "256\n",
      "868\n",
      "256\n",
      "715\n",
      "184\n"
     ]
    }
   ],
   "source": [
    "for idx, (input, target) in enumerate(train_data_loader):\n",
    "    input_layers = get_layers_input(input, adj, layers)\n",
    "    print(len(input_layers[0]))\n",
    "    print(len(input_layers[1]))"
   ]
  },
  {
   "cell_type": "code",
   "execution_count": 214,
   "metadata": {},
   "outputs": [],
   "source": [
    "a = [torch.tensor(1),torch.tensor(2),3,4]"
   ]
  },
  {
   "cell_type": "code",
   "execution_count": 215,
   "metadata": {},
   "outputs": [
    {
     "data": {
      "text/plain": [
       "[4, 3, tensor(2), tensor(1)]"
      ]
     },
     "execution_count": 215,
     "metadata": {},
     "output_type": "execute_result"
    }
   ],
   "source": [
    "list(reversed(a))"
   ]
  },
  {
   "cell_type": "code",
   "execution_count": 221,
   "metadata": {},
   "outputs": [],
   "source": [
    "a = {0:[1,2,3], 1:[2,3,4], 2:[4,5,6],3:[5,6,7]}"
   ]
  },
  {
   "cell_type": "code",
   "execution_count": 222,
   "metadata": {},
   "outputs": [
    {
     "data": {
      "text/plain": [
       "{0: [1, 2, 3], 1: [2, 3, 4], 2: [4, 5, 6], 3: [5, 6, 7]}"
      ]
     },
     "execution_count": 222,
     "metadata": {},
     "output_type": "execute_result"
    }
   ],
   "source": [
    "a"
   ]
  },
  {
   "cell_type": "code",
   "execution_count": 236,
   "metadata": {},
   "outputs": [
    {
     "ename": "TypeError",
     "evalue": "'dict_items' object is not subscriptable",
     "output_type": "error",
     "traceback": [
      "\u001b[0;31m---------------------------------------------------------------------------\u001b[0m",
      "\u001b[0;31mTypeError\u001b[0m                                 Traceback (most recent call last)",
      "Cell \u001b[0;32mIn[236], line 2\u001b[0m\n\u001b[1;32m      1\u001b[0m a \u001b[39m=\u001b[39m {\u001b[39m1\u001b[39m:\u001b[39m2\u001b[39m,\u001b[39m2\u001b[39m:\u001b[39m3\u001b[39m}\n\u001b[0;32m----> 2\u001b[0m a\u001b[39m.\u001b[39;49mitems()[\u001b[39m0\u001b[39;49m]\n",
      "\u001b[0;31mTypeError\u001b[0m: 'dict_items' object is not subscriptable"
     ]
    }
   ],
   "source": [
    "a = {1:2,2:3}\n",
    "a.items()[0]"
   ]
  },
  {
   "cell_type": "code",
   "execution_count": 232,
   "metadata": {},
   "outputs": [
    {
     "ename": "RuntimeError",
     "evalue": "The expanded size of the tensor (4) must match the existing size (5) at non-singleton dimension 0.  Target sizes: [4].  Tensor sizes: [5]",
     "output_type": "error",
     "traceback": [
      "\u001b[0;31m---------------------------------------------------------------------------\u001b[0m",
      "\u001b[0;31mRuntimeError\u001b[0m                              Traceback (most recent call last)",
      "Cell \u001b[0;32mIn[232], line 1\u001b[0m\n\u001b[0;32m----> 1\u001b[0m a[\u001b[39m0\u001b[39;49m] \u001b[39m=\u001b[39m torch\u001b[39m.\u001b[39mtensor([\u001b[39m1\u001b[39m,\u001b[39m2\u001b[39m,\u001b[39m3\u001b[39m,\u001b[39m4\u001b[39m,\u001b[39m5\u001b[39m])\n",
      "\u001b[0;31mRuntimeError\u001b[0m: The expanded size of the tensor (4) must match the existing size (5) at non-singleton dimension 0.  Target sizes: [4].  Tensor sizes: [5]"
     ]
    }
   ],
   "source": [
    "a[0] = torch.tensor([1,2,3,4,5])"
   ]
  },
  {
   "cell_type": "code",
   "execution_count": 231,
   "metadata": {},
   "outputs": [
    {
     "data": {
      "text/plain": [
       "tensor([[1., 2., 3., 4.],\n",
       "        [0., 0., 0., 0.],\n",
       "        [0., 0., 0., 0.]])"
      ]
     },
     "execution_count": 231,
     "metadata": {},
     "output_type": "execute_result"
    }
   ],
   "source": [
    "a"
   ]
  },
  {
   "cell_type": "code",
   "execution_count": null,
   "metadata": {},
   "outputs": [],
   "source": []
  }
 ],
 "metadata": {
  "kernelspec": {
   "display_name": "lss-cpu",
   "language": "python",
   "name": "python3"
  },
  "language_info": {
   "codemirror_mode": {
    "name": "ipython",
    "version": 3
   },
   "file_extension": ".py",
   "mimetype": "text/x-python",
   "name": "python",
   "nbconvert_exporter": "python",
   "pygments_lexer": "ipython3",
   "version": "3.10.11"
  },
  "orig_nbformat": 4
 },
 "nbformat": 4,
 "nbformat_minor": 2
}
